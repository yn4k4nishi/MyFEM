{
 "cells": [
  {
   "cell_type": "markdown",
   "metadata": {},
   "source": [
    "## Maxwell eq\n",
    "$$\n",
    "    \\nabla \\cdot  E = \\frac{\\rho}{\\epsilon} \\\\\n",
    "    \\nabla \\times E = - \\frac{\\partial B}{\\partial t} \\\\\n",
    "    \\nabla \\cdot  B = 0 \\\\\n",
    "    \\nabla \\times B = \\mu J + \\epsilon \\mu \\frac{\\partial E}{\\partial t} \n",
    "$$\n",
    "\n",
    "$\\dfrac{\\partial}{\\partial t} = j \\omega$ とすると回転の2式は\n",
    "$$\n",
    "    \\nabla \\times E + j \\omega B = 0 \\\\\n",
    "    \\nabla \\times B = \\mu J + j \\omega \\mu \\epsilon E\n",
    "$$\n",
    "この2式をまとめると\n",
    "$$\n",
    "    \\nabla \\times \\left( \\nabla \\times E \\right) + j \\omega \\nabla \\times B = 0 \\\\\n",
    "    \\nabla \\times \\left( \\nabla \\times E \\right) + j \\omega ( \\mu J + j \\omega \\mu \\epsilon E ) = 0 \\\\\n",
    "    \\nabla \\times \\left( \\nabla \\times E \\right) - \\omega^2 \\mu \\epsilon E = - j \\omega \\mu J \\\\\n",
    "    \\nabla \\times \\left( \\nabla \\times E \\right) - k_0^2 \\mu_r \\epsilon_r E \n",
    "        = - j \\omega \\sqrt{\\mu_0 \\epsilon_0} \\sqrt{\\frac{\\mu_0}{\\epsilon_0}} \\mu_r J \\\\\n",
    "    \\nabla \\times \\left( \\nabla \\times E \\right) - k_0^2 \\mu_r \\epsilon_r E \n",
    "        = - j k_0 \\eta_0 \\mu_r J \\\\\n",
    "    \\\\\n",
    "    k_0^2    = \\omega^2 \\mu_0 \\epsilon_0 \\\\\n",
    "    \\eta_0^2 = \\frac{\\mu_0}{\\epsilon_0} \n",
    "$$\n",
    "\n",
    "以上からヘルムホルツの波動方程式が求まる．"
   ]
  }
 ],
 "metadata": {
  "interpreter": {
   "hash": "916dbcbb3f70747c44a77c7bcd40155683ae19c65e1c03b4aa3499c5328201f1"
  },
  "kernelspec": {
   "display_name": "Python 3.8.10 64-bit",
   "language": "python",
   "name": "python3"
  },
  "language_info": {
   "name": "python",
   "version": "3.8.10"
  },
  "orig_nbformat": 4
 },
 "nbformat": 4,
 "nbformat_minor": 2
}
